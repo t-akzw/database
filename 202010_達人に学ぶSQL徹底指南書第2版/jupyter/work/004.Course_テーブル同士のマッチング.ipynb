{
 "cells": [
  {
   "cell_type": "code",
   "execution_count": 1,
   "metadata": {},
   "outputs": [
    {
     "name": "stdout",
     "output_type": "stream",
     "text": [
      "('postgres', 10, 6, 'ja_JP.UTF-8', 'ja_JP.UTF-8')\n",
      "('sandbox', 10, 6, 'ja_JP.UTF-8', 'ja_JP.UTF-8')\n",
      "('template1', 10, 6, 'ja_JP.UTF-8', 'ja_JP.UTF-8')\n",
      "('template0', 10, 6, 'ja_JP.UTF-8', 'ja_JP.UTF-8')\n"
     ]
    }
   ],
   "source": [
    "import psycopg2\n",
    "from psycopg2  import extras\n",
    "from sqlalchemy import create_engine\n",
    "from sqlalchemy.orm import scoped_session, sessionmaker\n",
    "from sqlalchemy import Table, Column, Integer, String, MetaData, ForeignKey\n",
    "\n",
    "DATABASE = 'postgresql'\n",
    "USER = 'root'\n",
    "PASSWORD = 'root'\n",
    "HOST = 'postgres' # shared-networkに所属しているpostgres containerを指定できる\n",
    "PORT = '5432'\n",
    "DB_NAME = 'sandbox'\n",
    "\n",
    "CONNECT_STR = '{}://{}:{}@{}:{}/{}'.format(DATABASE, USER, PASSWORD, HOST, PORT, DB_NAME)\n",
    "engine = create_engine(CONNECT_STR)\n",
    "\n",
    "conn = engine.connect()\n",
    "res = conn.execute(\"select datname, datdba, encoding, datcollate, datctype from pg_database;\")\n",
    "\n",
    "for row in res:\n",
    "    print(row)"
   ]
  },
  {
   "cell_type": "code",
   "execution_count": 2,
   "metadata": {},
   "outputs": [],
   "source": [
    "# create poptbl\n",
    "tablename_a = 'x004_course_master'\n",
    "a_q1 = \"SELECT * FROM information_schema.tables WHERE table_name = '{}';\".format(tablename_a)\n",
    "a_res = conn.execute(a_q1)\n",
    "\n",
    "a_q2 = \"\"\"\n",
    "CREATE TABLE  {} (\n",
    "    course_id integer NOT NULL,\n",
    "    course_name  varchar(256) NOT NULL\n",
    ");\n",
    "\"\"\".format(tablename_a)\n",
    "\n",
    "tablename_b = 'x004_open_course'\n",
    "b_q1 = \"SELECT * FROM information_schema.tables WHERE table_name = '{}';\".format(tablename_b)\n",
    "b_res = conn.execute(b_q1)\n",
    "\n",
    "b_q2 = \"\"\"\n",
    "CREATE TABLE  {} (\n",
    "    monthx varchar(256) NOT NULL,\n",
    "    course_id  integer NOT NULL\n",
    ");\n",
    "\"\"\".format(tablename_b)\n",
    "\n",
    "if sum(1 for _ in a_res) == 0:\n",
    "    print(\"create\")\n",
    "    conn.execute(a_q2)\n",
    "    res = conn.execute(a_q1)\n",
    "    sum(1 for _ in res)\n",
    "\n",
    "if sum(1 for _ in b_res) == 0:\n",
    "    print(\"create\")\n",
    "    conn.execute(b_q2)\n",
    "    res = conn.execute(b_q1)\n",
    "    sum(1 for _ in res)"
   ]
  },
  {
   "cell_type": "code",
   "execution_count": 3,
   "metadata": {},
   "outputs": [
    {
     "name": "stdout",
     "output_type": "stream",
     "text": [
      "(1, '経理入門')\n",
      "(2, '財務知識')\n",
      "(3, '簿記検定開講講座')\n",
      "(4, '税理士')\n",
      "('201806', 1)\n",
      "('201806', 3)\n",
      "('201806', 4)\n",
      "('201807', 4)\n",
      "('201808', 2)\n",
      "('201808', 4)\n"
     ]
    }
   ],
   "source": [
    "# insert data\n",
    "data = (\n",
    "    (1, '経理入門'),\n",
    "    (2, '財務知識'),\n",
    "    (3, '簿記検定開講講座'),\n",
    "    (4, '税理士')\n",
    ")\n",
    "\n",
    "conn.execute(\"DELETE FROM {};\".format(tablename_a))\n",
    "\n",
    "metadata = MetaData()\n",
    "tbl = Table(tablename_a, metadata,\n",
    "            Column('course_id', Integer, primary_key=False),\n",
    "            Column('course_name', String),\n",
    "           )\n",
    "\n",
    "for i in data:\n",
    "    ins = tbl.insert().values(course_id=i[0], course_name=i[1])\n",
    "    conn.execute(ins)\n",
    "\n",
    "res = conn.execute(\"SELECT * FROM {};\".format(tablename_a))\n",
    "for i in res:\n",
    "    print(i)\n",
    "\n",
    "data = (\n",
    "    ('201806', 1),\n",
    "    ('201806', 3),\n",
    "    ('201806', 4),\n",
    "    ('201807', 4),\n",
    "    ('201808', 2),\n",
    "    ('201808', 4)\n",
    ")\n",
    "\n",
    "conn.execute(\"DELETE FROM {};\".format(tablename_b))\n",
    "\n",
    "metadata = MetaData()\n",
    "tbl = Table(tablename_b, metadata,\n",
    "            Column('monthx', String, primary_key=False),\n",
    "            Column('course_id', Integer),\n",
    "           )\n",
    "\n",
    "for i in data:\n",
    "    ins = tbl.insert().values(monthx=i[0], course_id=i[1])\n",
    "    conn.execute(ins)\n",
    "\n",
    "res = conn.execute(\"SELECT * FROM {};\".format(tablename_b))\n",
    "for i in res:\n",
    "    print(i)"
   ]
  },
  {
   "cell_type": "markdown",
   "metadata": {},
   "source": [
    "期待する結果\n",
    "\n",
    "|course_name|6月|7月|8月|\n",
    "|:--|:--|:--|:--|\n",
    "|経理入門|○|×|×|\n",
    "|財務知識|×|×|○|\n",
    "|簿記検定開講講座|○|×|×|\n",
    "|税理士|○|○|○|"
   ]
  },
  {
   "cell_type": "code",
   "execution_count": 4,
   "metadata": {},
   "outputs": [
    {
     "name": "stdout",
     "output_type": "stream",
     "text": [
      "\n",
      "select course_name,\n",
      "    case when course_id in\n",
      "        (select course_id from x004_open_course where monthx = '201806') then '○'\n",
      "        else '×' end as \"6月\",\n",
      "    case when course_id in\n",
      "        (select course_id from x004_open_course where monthx = '201807') then '○'\n",
      "        else '×' end as \"7月\",\n",
      "    case when course_id in\n",
      "        (select course_id from x004_open_course where monthx = '201808') then '○'\n",
      "        else '×' end as \"8月\"\n",
      "    from x004_course_master;\n",
      "\n",
      "('経理入門', '○', '×', '×')\n",
      "('財務知識', '×', '×', '○')\n",
      "('簿記検定開講講座', '○', '×', '×')\n",
      "('税理士', '○', '○', '○')\n"
     ]
    }
   ],
   "source": [
    "q = f\"\"\"\n",
    "select course_name,\n",
    "    case when course_id in\n",
    "        (select course_id from {tablename_b} where monthx = '201806') then '○'\n",
    "        else '×' end as \"6月\",\n",
    "    case when course_id in\n",
    "        (select course_id from {tablename_b} where monthx = '201807') then '○'\n",
    "        else '×' end as \"7月\",\n",
    "    case when course_id in\n",
    "        (select course_id from {tablename_b} where monthx = '201808') then '○'\n",
    "        else '×' end as \"8月\"\n",
    "    from {tablename_a};\n",
    "\"\"\"\n",
    "\n",
    "print(q)\n",
    "\n",
    "res = conn.execute(q)\n",
    "for i in res:\n",
    "    print(i)"
   ]
  },
  {
   "cell_type": "code",
   "execution_count": null,
   "metadata": {},
   "outputs": [],
   "source": []
  }
 ],
 "metadata": {
  "kernelspec": {
   "display_name": "Python 3",
   "language": "python",
   "name": "python3"
  },
  "language_info": {
   "codemirror_mode": {
    "name": "ipython",
    "version": 3
   },
   "file_extension": ".py",
   "mimetype": "text/x-python",
   "name": "python",
   "nbconvert_exporter": "python",
   "pygments_lexer": "ipython3",
   "version": "3.8.6"
  }
 },
 "nbformat": 4,
 "nbformat_minor": 4
}
