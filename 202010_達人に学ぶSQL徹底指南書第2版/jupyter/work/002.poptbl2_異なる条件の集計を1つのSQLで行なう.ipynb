{
 "cells": [
  {
   "cell_type": "code",
   "execution_count": 1,
   "metadata": {},
   "outputs": [
    {
     "name": "stdout",
     "output_type": "stream",
     "text": [
      "('postgres', 10, 6, 'ja_JP.UTF-8', 'ja_JP.UTF-8')\n",
      "('sandbox', 10, 6, 'ja_JP.UTF-8', 'ja_JP.UTF-8')\n",
      "('template1', 10, 6, 'ja_JP.UTF-8', 'ja_JP.UTF-8')\n",
      "('template0', 10, 6, 'ja_JP.UTF-8', 'ja_JP.UTF-8')\n"
     ]
    }
   ],
   "source": [
    "import psycopg2\n",
    "from psycopg2  import extras\n",
    "from sqlalchemy import create_engine\n",
    "from sqlalchemy.orm import scoped_session, sessionmaker\n",
    "from sqlalchemy import Table, Column, Integer, String, MetaData, ForeignKey\n",
    "\n",
    "DATABASE = 'postgresql'\n",
    "USER = 'root'\n",
    "PASSWORD = 'root'\n",
    "HOST = 'postgres' # shared-networkに所属しているpostgres containerを指定できる\n",
    "PORT = '5432'\n",
    "DB_NAME = 'sandbox'\n",
    "\n",
    "CONNECT_STR = '{}://{}:{}@{}:{}/{}'.format(DATABASE, USER, PASSWORD, HOST, PORT, DB_NAME)\n",
    "engine = create_engine(CONNECT_STR)\n",
    "\n",
    "conn = engine.connect()\n",
    "res = conn.execute(\"select datname, datdba, encoding, datcollate, datctype from pg_database;\")\n",
    "\n",
    "for row in res:\n",
    "    print(row)"
   ]
  },
  {
   "cell_type": "code",
   "execution_count": 2,
   "metadata": {},
   "outputs": [],
   "source": [
    "# create poptbl\n",
    "tablename = 'x002_poptbl2'\n",
    "q1 = \"SELECT * FROM information_schema.tables WHERE table_name = '{}';\".format(tablename)\n",
    "res = conn.execute(q1)\n",
    "\n",
    "q2 = \"\"\"\n",
    "CREATE TABLE  {} (\n",
    "    pref_name  varchar(256) NOT NULL,\n",
    "    sex integer NOT NULL,\n",
    "    population integer NOT NULL\n",
    ");\n",
    "\"\"\".format(tablename)\n",
    "\n",
    "if sum(1 for _ in res) == 0:\n",
    "    print(\"create\")\n",
    "    conn.execute(q2)\n",
    "    res = conn.execute(q1)\n",
    "    sum(1 for _ in res)"
   ]
  },
  {
   "cell_type": "code",
   "execution_count": 3,
   "metadata": {},
   "outputs": [
    {
     "name": "stdout",
     "output_type": "stream",
     "text": [
      "('徳島', 1, 60)\n",
      "('徳島', 2, 40)\n",
      "('香川', 1, 100)\n",
      "('香川', 2, 100)\n",
      "('愛媛', 1, 100)\n",
      "('愛媛', 2, 50)\n",
      "('高知', 1, 100)\n",
      "('高知', 2, 100)\n",
      "('福岡', 1, 100)\n",
      "('福岡', 2, 200)\n",
      "('佐賀', 1, 20)\n",
      "('佐賀', 2, 80)\n",
      "('長崎', 1, 125)\n",
      "('長崎', 2, 125)\n",
      "('東京', 1, 250)\n",
      "('東京', 2, 150)\n"
     ]
    }
   ],
   "source": [
    "# insert data\n",
    "data = (\n",
    "    ('徳島', 1, 60),\n",
    "    ('徳島', 2, 40),\n",
    "    ('香川', 1, 100),\n",
    "    ('香川', 2, 100),\n",
    "    ('愛媛', 1, 100),\n",
    "    ('愛媛', 2, 50),\n",
    "    ('高知', 1, 100),\n",
    "    ('高知', 2, 100),\n",
    "    ('福岡', 1, 100),\n",
    "    ('福岡', 2, 200),\n",
    "    ('佐賀', 1, 20),\n",
    "    ('佐賀', 2, 80),\n",
    "    ('長崎', 1, 125),\n",
    "    ('長崎', 2, 125),\n",
    "    ('東京', 1, 250),\n",
    "    ('東京', 2, 150),\n",
    ")\n",
    "\n",
    "conn.execute(\"DELETE FROM {};\".format(tablename))\n",
    "\n",
    "metadata = MetaData()\n",
    "tbl = Table(tablename, metadata,\n",
    "            Column('pref_name', String, primary_key=False),\n",
    "            Column('sex', Integer),\n",
    "            Column('population', Integer),\n",
    "           )\n",
    "\n",
    "for i in data:\n",
    "    ins = tbl.insert().values(pref_name=i[0], sex=i[1], population=i[2])\n",
    "    conn.execute(ins)\n",
    "\n",
    "res = conn.execute(\"SELECT * FROM {};\".format(tablename))\n",
    "for i in res:\n",
    "    print(i)"
   ]
  },
  {
   "cell_type": "markdown",
   "metadata": {},
   "source": [
    "期待する結果\n",
    "\n",
    "|県名|男|女|\n",
    "|:--|:--|:--|\n",
    "|佐賀|20|80|\n",
    "|徳島|60|40|\n",
    "|愛媛|100|50|\n",
    "|香川|100|100|\n",
    "|高知|100|100|\n",
    "|福岡|100|200|\n",
    "|長崎|125|125|\n",
    "|東京|250|150|"
   ]
  },
  {
   "cell_type": "code",
   "execution_count": 4,
   "metadata": {},
   "outputs": [
    {
     "name": "stdout",
     "output_type": "stream",
     "text": [
      "\n",
      "select \n",
      "    pref_name,\n",
      "    sum(\n",
      "        case \n",
      "        when sex = 1 then population else 0 end\n",
      "    ) as 男,\n",
      "    sum(\n",
      "        case\n",
      "        when sex = 2 then population else 0 end\n",
      "    ) as 女\n",
      "    from x002_poptbl2\n",
      "    group by pref_name\n",
      "    order by 男;\n",
      "\n",
      "('佐賀', 20, 80)\n",
      "('徳島', 60, 40)\n",
      "('愛媛', 100, 50)\n",
      "('香川', 100, 100)\n",
      "('高知', 100, 100)\n",
      "('福岡', 100, 200)\n",
      "('長崎', 125, 125)\n",
      "('東京', 250, 150)\n"
     ]
    }
   ],
   "source": [
    "q = f\"\"\"\n",
    "select \n",
    "    pref_name,\n",
    "    sum(\n",
    "        case \n",
    "        when sex = 1 then population else 0 end\n",
    "    ) as 男,\n",
    "    sum(\n",
    "        case\n",
    "        when sex = 2 then population else 0 end\n",
    "    ) as 女\n",
    "    from {tablename}\n",
    "    group by pref_name\n",
    "    order by 男;\n",
    "\"\"\"\n",
    "\n",
    "print(q)\n",
    "\n",
    "res = conn.execute(q)\n",
    "for i in res:\n",
    "    print(i)"
   ]
  },
  {
   "cell_type": "code",
   "execution_count": null,
   "metadata": {},
   "outputs": [],
   "source": []
  }
 ],
 "metadata": {
  "kernelspec": {
   "display_name": "Python 3",
   "language": "python",
   "name": "python3"
  },
  "language_info": {
   "codemirror_mode": {
    "name": "ipython",
    "version": 3
   },
   "file_extension": ".py",
   "mimetype": "text/x-python",
   "name": "python",
   "nbconvert_exporter": "python",
   "pygments_lexer": "ipython3",
   "version": "3.8.6"
  }
 },
 "nbformat": 4,
 "nbformat_minor": 4
}
