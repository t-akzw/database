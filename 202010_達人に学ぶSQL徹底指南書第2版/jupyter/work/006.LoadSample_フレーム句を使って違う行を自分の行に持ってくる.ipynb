{
 "cells": [
  {
   "cell_type": "code",
   "execution_count": 1,
   "metadata": {},
   "outputs": [
    {
     "name": "stdout",
     "output_type": "stream",
     "text": [
      "('postgres', 10, 6, 'ja_JP.UTF-8', 'ja_JP.UTF-8')\n",
      "('sandbox', 10, 6, 'ja_JP.UTF-8', 'ja_JP.UTF-8')\n",
      "('template1', 10, 6, 'ja_JP.UTF-8', 'ja_JP.UTF-8')\n",
      "('template0', 10, 6, 'ja_JP.UTF-8', 'ja_JP.UTF-8')\n"
     ]
    }
   ],
   "source": [
    "import psycopg2\n",
    "from psycopg2  import extras\n",
    "from sqlalchemy import create_engine\n",
    "from sqlalchemy.orm import scoped_session, sessionmaker\n",
    "from sqlalchemy import Table, Column, Integer, String, MetaData, ForeignKey, Date\n",
    "\n",
    "DATABASE = 'postgresql'\n",
    "USER = 'root'\n",
    "PASSWORD = 'root'\n",
    "HOST = 'postgres' # shared-networkに所属しているpostgres containerを指定できる\n",
    "PORT = '5432'\n",
    "DB_NAME = 'sandbox'\n",
    "\n",
    "CONNECT_STR = '{}://{}:{}@{}:{}/{}'.format(DATABASE, USER, PASSWORD, HOST, PORT, DB_NAME)\n",
    "engine = create_engine(CONNECT_STR)\n",
    "\n",
    "conn = engine.connect()\n",
    "res = conn.execute(\"select datname, datdba, encoding, datcollate, datctype from pg_database;\")\n",
    "\n",
    "for row in res:\n",
    "    print(row)"
   ]
  },
  {
   "cell_type": "code",
   "execution_count": 2,
   "metadata": {},
   "outputs": [],
   "source": [
    "# create table\n",
    "tablename = 'x006_load_sample'\n",
    "\n",
    "q1 = \"SELECT * FROM information_schema.tables WHERE table_name = '{}';\".format(tablename)\n",
    "res = conn.execute(q1)\n",
    "\n",
    "q2 = \"\"\"\n",
    "CREATE TABLE  {} (\n",
    "    sample_date date NOT NULL,\n",
    "    load_val integer NOT NULL\n",
    ");\n",
    "\"\"\".format(tablename)\n",
    "\n",
    "if sum(1 for _ in res) == 0:\n",
    "    print(\"create\")\n",
    "    conn.execute(q2)\n",
    "    res = conn.execute(q1)\n",
    "    sum(1 for _ in res)"
   ]
  },
  {
   "cell_type": "code",
   "execution_count": 3,
   "metadata": {},
   "outputs": [
    {
     "name": "stdout",
     "output_type": "stream",
     "text": [
      "(datetime.date(2018, 2, 1), 1024)\n",
      "(datetime.date(2018, 2, 2), 2366)\n",
      "(datetime.date(2018, 2, 5), 2366)\n",
      "(datetime.date(2018, 2, 7), 985)\n",
      "(datetime.date(2018, 2, 8), 780)\n",
      "(datetime.date(2018, 2, 12), 1000)\n"
     ]
    }
   ],
   "source": [
    "# insert data\n",
    "data = (\n",
    "    ('2018-02-01', 1024),\n",
    "    ('2018-02-02', 2366),\n",
    "    ('2018-02-05', 2366),\n",
    "    ('2018-02-07', 985),\n",
    "    ('2018-02-08', 780),\n",
    "    ('2018-02-12', 1000),\n",
    ")\n",
    "\n",
    "conn.execute(\"DELETE FROM {};\".format(tablename))\n",
    "\n",
    "metadata = MetaData()\n",
    "tbl = Table(tablename, metadata,\n",
    "            Column('sample_date', Date),\n",
    "            Column('load_val', Integer),\n",
    "           )\n",
    "\n",
    "for i in data:\n",
    "    ins = tbl.insert().values(sample_date=i[0], load_val=i[1])\n",
    "    conn.execute(ins)\n",
    "\n",
    "res = conn.execute(\"SELECT * FROM {};\".format(tablename))\n",
    "for i in res:\n",
    "    print(i)"
   ]
  },
  {
   "cell_type": "markdown",
   "metadata": {},
   "source": [
    "## ウィンドウ関数の3機能\n",
    "\n",
    "- PARTITION BYによるレコード集合のカット\n",
    "- ORDER BYによるレコードの順序づけ\n",
    "- フレーム句によるカレントコードを中心としたサブセットの定義"
   ]
  },
  {
   "cell_type": "code",
   "execution_count": 4,
   "metadata": {},
   "outputs": [
    {
     "name": "stdout",
     "output_type": "stream",
     "text": [
      "\n",
      "select sample_date as cur_date,\n",
      "    min(sample_date)\n",
      "        over (order by sample_date asc\n",
      "                rows between 1 preceding and 1 preceding) as latest_date\n",
      "from x006_load_sample;\n",
      "\n",
      "(datetime.date(2018, 2, 1), None)\n",
      "(datetime.date(2018, 2, 2), datetime.date(2018, 2, 1))\n",
      "(datetime.date(2018, 2, 5), datetime.date(2018, 2, 2))\n",
      "(datetime.date(2018, 2, 7), datetime.date(2018, 2, 5))\n",
      "(datetime.date(2018, 2, 8), datetime.date(2018, 2, 7))\n",
      "(datetime.date(2018, 2, 12), datetime.date(2018, 2, 8))\n"
     ]
    }
   ],
   "source": [
    "q = f\"\"\"\n",
    "select sample_date as cur_date,\n",
    "    min(sample_date)\n",
    "        over (order by sample_date asc\n",
    "                rows between 1 preceding and 1 preceding) as latest_date\n",
    "from {tablename};\n",
    "\"\"\"\n",
    "\n",
    "print(q)\n",
    "\n",
    "res = conn.execute(q)\n",
    "for i in res:\n",
    "    print(i)"
   ]
  },
  {
   "cell_type": "code",
   "execution_count": 5,
   "metadata": {},
   "outputs": [
    {
     "name": "stdout",
     "output_type": "stream",
     "text": [
      "\n",
      "select sample_date as cur_date,\n",
      "    min(sample_date)\n",
      "        over (order by sample_date asc\n",
      "                range between interval '1' day preceding and interval '1' day preceding) as day1_before\n",
      "from x006_load_sample;\n",
      "\n",
      "(datetime.date(2018, 2, 1), None)\n",
      "(datetime.date(2018, 2, 2), datetime.date(2018, 2, 1))\n",
      "(datetime.date(2018, 2, 5), None)\n",
      "(datetime.date(2018, 2, 7), None)\n",
      "(datetime.date(2018, 2, 8), datetime.date(2018, 2, 7))\n",
      "(datetime.date(2018, 2, 12), None)\n"
     ]
    }
   ],
   "source": [
    "# postgres11以降でないと動かない\n",
    "\n",
    "# 一日前に該当する場合だけ値が入る\n",
    "q = f\"\"\"\n",
    "select sample_date as cur_date,\n",
    "    min(sample_date)\n",
    "        over (order by sample_date asc\n",
    "                range between interval '1' day preceding and interval '1' day preceding) as day1_before\n",
    "from {tablename};\n",
    "\"\"\"\n",
    "\n",
    "print(q)\n",
    "\n",
    "res = conn.execute(q)\n",
    "for i in res:\n",
    "    print(i)"
   ]
  },
  {
   "cell_type": "code",
   "execution_count": 6,
   "metadata": {},
   "outputs": [
    {
     "name": "stdout",
     "output_type": "stream",
     "text": [
      "\n",
      "select sample_date as cur_date,\n",
      "    min(sample_date)\n",
      "        over (order by sample_date asc\n",
      "                range between interval '1' day preceding and interval '1' day following) as day1_before\n",
      "from x006_load_sample;\n",
      "\n",
      "(datetime.date(2018, 2, 1), datetime.date(2018, 2, 1))\n",
      "(datetime.date(2018, 2, 2), datetime.date(2018, 2, 1))\n",
      "(datetime.date(2018, 2, 5), datetime.date(2018, 2, 5))\n",
      "(datetime.date(2018, 2, 7), datetime.date(2018, 2, 7))\n",
      "(datetime.date(2018, 2, 8), datetime.date(2018, 2, 7))\n",
      "(datetime.date(2018, 2, 12), datetime.date(2018, 2, 12))\n"
     ]
    }
   ],
   "source": [
    "# postgres11以降でないと動かない\n",
    "\n",
    "# 1日前から1日後に当てはまるものの中で最小のものをとる、つまり1日前があればその日付が入る\n",
    "q = f\"\"\"\n",
    "select sample_date as cur_date,\n",
    "    min(sample_date)\n",
    "        over (order by sample_date asc\n",
    "                range between interval '1' day preceding and interval '1' day following) as day1_before\n",
    "from {tablename};\n",
    "\"\"\"\n",
    "\n",
    "print(q)\n",
    "\n",
    "res = conn.execute(q)\n",
    "for i in res:\n",
    "    print(i)"
   ]
  }
 ],
 "metadata": {
  "kernelspec": {
   "display_name": "Python 3",
   "language": "python",
   "name": "python3"
  },
  "language_info": {
   "codemirror_mode": {
    "name": "ipython",
    "version": 3
   },
   "file_extension": ".py",
   "mimetype": "text/x-python",
   "name": "python",
   "nbconvert_exporter": "python",
   "pygments_lexer": "ipython3",
   "version": "3.8.6"
  }
 },
 "nbformat": 4,
 "nbformat_minor": 4
}
