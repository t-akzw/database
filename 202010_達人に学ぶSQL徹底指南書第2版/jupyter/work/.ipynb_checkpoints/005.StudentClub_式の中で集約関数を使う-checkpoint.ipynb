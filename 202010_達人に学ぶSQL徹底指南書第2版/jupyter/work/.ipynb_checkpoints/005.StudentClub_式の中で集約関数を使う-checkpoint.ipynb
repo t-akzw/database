{
 "cells": [
  {
   "cell_type": "code",
   "execution_count": 1,
   "metadata": {},
   "outputs": [
    {
     "name": "stdout",
     "output_type": "stream",
     "text": [
      "('postgres', 10, 6, 'ja_JP.UTF-8', 'ja_JP.UTF-8')\n",
      "('sandbox', 10, 6, 'ja_JP.UTF-8', 'ja_JP.UTF-8')\n",
      "('template1', 10, 6, 'ja_JP.UTF-8', 'ja_JP.UTF-8')\n",
      "('template0', 10, 6, 'ja_JP.UTF-8', 'ja_JP.UTF-8')\n"
     ]
    }
   ],
   "source": [
    "import psycopg2\n",
    "from psycopg2  import extras\n",
    "from sqlalchemy import create_engine\n",
    "from sqlalchemy.orm import scoped_session, sessionmaker\n",
    "from sqlalchemy import Table, Column, Integer, String, MetaData, ForeignKey\n",
    "\n",
    "DATABASE = 'postgresql'\n",
    "USER = 'root'\n",
    "PASSWORD = 'root'\n",
    "HOST = 'postgres' # shared-networkに所属しているpostgres containerを指定できる\n",
    "PORT = '5432'\n",
    "DB_NAME = 'sandbox'\n",
    "\n",
    "CONNECT_STR = '{}://{}:{}@{}:{}/{}'.format(DATABASE, USER, PASSWORD, HOST, PORT, DB_NAME)\n",
    "engine = create_engine(CONNECT_STR)\n",
    "\n",
    "conn = engine.connect()\n",
    "res = conn.execute(\"select datname, datdba, encoding, datcollate, datctype from pg_database;\")\n",
    "\n",
    "for row in res:\n",
    "    print(row)"
   ]
  },
  {
   "cell_type": "code",
   "execution_count": 2,
   "metadata": {},
   "outputs": [],
   "source": [
    "# create table\n",
    "tablename = 'x005_student_club'\n",
    "\n",
    "q1 = \"SELECT * FROM information_schema.tables WHERE table_name = '{}';\".format(tablename)\n",
    "res = conn.execute(q1)\n",
    "\n",
    "q2 = \"\"\"\n",
    "CREATE TABLE  {} (\n",
    "    std_id integer NOT NULL,\n",
    "    club_id integer NOT NULL,\n",
    "    club_name varchar(256) NOT NULL,\n",
    "    main_club_flg varchar(256) NOT NULL\n",
    ");\n",
    "\"\"\".format(tablename)\n",
    "\n",
    "if sum(1 for _ in res) == 0:\n",
    "    print(\"create\")\n",
    "    conn.execute(q2)\n",
    "    res = conn.execute(q1)\n",
    "    sum(1 for _ in res)"
   ]
  },
  {
   "cell_type": "code",
   "execution_count": 3,
   "metadata": {},
   "outputs": [
    {
     "name": "stdout",
     "output_type": "stream",
     "text": [
      "(100, 1, '野球', 'Y')\n",
      "(100, 2, '吹奏楽', 'N')\n",
      "(200, 2, '吹奏楽', 'N')\n",
      "(200, 3, 'バドミントン', 'Y')\n",
      "(200, 4, 'サッカー', 'N')\n",
      "(300, 4, 'サッカー', 'N')\n",
      "(400, 5, '水泳', 'N')\n",
      "(500, 6, '囲碁', 'N')\n"
     ]
    }
   ],
   "source": [
    "# insert data\n",
    "data = (\n",
    "    (100, 1, '野球', 'Y'),\n",
    "    (100, 2, '吹奏楽', 'N'),\n",
    "    (200, 2, '吹奏楽', 'N'),\n",
    "    (200, 3, 'バドミントン', 'Y'),\n",
    "    (200, 4, 'サッカー', 'N'),\n",
    "    (300, 4, 'サッカー', 'N'),\n",
    "    (400, 5, '水泳', 'N'),\n",
    "    (500, 6, '囲碁', 'N'),\n",
    ")\n",
    "\n",
    "conn.execute(\"DELETE FROM {};\".format(tablename))\n",
    "\n",
    "metadata = MetaData()\n",
    "tbl = Table(tablename, metadata,\n",
    "            Column('std_id', Integer, primary_key=False),\n",
    "            Column('club_id', Integer, primary_key=False),\n",
    "            Column('club_name', String, primary_key=False),\n",
    "            Column('main_club_flg', String),\n",
    "           )\n",
    "\n",
    "for i in data:\n",
    "    ins = tbl.insert().values(std_id=i[0], club_id=i[1], club_name=i[2], main_club_flg=i[3])\n",
    "    conn.execute(ins)\n",
    "\n",
    "res = conn.execute(\"SELECT * FROM {};\".format(tablename))\n",
    "for i in res:\n",
    "    print(i)"
   ]
  },
  {
   "cell_type": "code",
   "execution_count": 4,
   "metadata": {},
   "outputs": [
    {
     "name": "stdout",
     "output_type": "stream",
     "text": [
      "\n",
      "select std_id,\n",
      "    case when count(*) = 1\n",
      "        then max(club_id)\n",
      "    else max(\n",
      "        case when main_club_flg = 'Y'\n",
      "            then club_id\n",
      "        else null end\n",
      "    ) end as main_club\n",
      "from x005_student_club\n",
      "group by std_id;\n",
      "\n",
      "(300, 4)\n",
      "(500, 6)\n",
      "(100, 1)\n",
      "(200, 3)\n",
      "(400, 5)\n"
     ]
    }
   ],
   "source": [
    "q = f\"\"\"\n",
    "select std_id,\n",
    "    case when count(*) = 1\n",
    "        then max(club_id)\n",
    "    else max(\n",
    "        case when main_club_flg = 'Y'\n",
    "            then club_id\n",
    "        else null end\n",
    "    ) end as main_club\n",
    "from {tablename}\n",
    "group by std_id;\n",
    "\"\"\"\n",
    "\n",
    "print(q)\n",
    "\n",
    "res = conn.execute(q)\n",
    "for i in res:\n",
    "    print(i)"
   ]
  }
 ],
 "metadata": {
  "kernelspec": {
   "display_name": "Python 3",
   "language": "python",
   "name": "python3"
  },
  "language_info": {
   "codemirror_mode": {
    "name": "ipython",
    "version": 3
   },
   "file_extension": ".py",
   "mimetype": "text/x-python",
   "name": "python",
   "nbconvert_exporter": "python",
   "pygments_lexer": "ipython3",
   "version": "3.8.6"
  }
 },
 "nbformat": 4,
 "nbformat_minor": 4
}
