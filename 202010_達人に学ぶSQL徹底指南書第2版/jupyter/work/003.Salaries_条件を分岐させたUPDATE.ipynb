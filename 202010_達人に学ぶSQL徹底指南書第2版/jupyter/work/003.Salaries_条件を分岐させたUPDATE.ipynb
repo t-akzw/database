{
 "cells": [
  {
   "cell_type": "code",
   "execution_count": 1,
   "metadata": {},
   "outputs": [
    {
     "name": "stdout",
     "output_type": "stream",
     "text": [
      "('postgres', 10, 6, 'ja_JP.UTF-8', 'ja_JP.UTF-8')\n",
      "('sandbox', 10, 6, 'ja_JP.UTF-8', 'ja_JP.UTF-8')\n",
      "('template1', 10, 6, 'ja_JP.UTF-8', 'ja_JP.UTF-8')\n",
      "('template0', 10, 6, 'ja_JP.UTF-8', 'ja_JP.UTF-8')\n"
     ]
    }
   ],
   "source": [
    "import psycopg2\n",
    "from psycopg2  import extras\n",
    "from sqlalchemy import create_engine\n",
    "from sqlalchemy.orm import scoped_session, sessionmaker\n",
    "from sqlalchemy import Table, Column, Integer, String, MetaData, ForeignKey\n",
    "\n",
    "DATABASE = 'postgresql'\n",
    "USER = 'root'\n",
    "PASSWORD = 'root'\n",
    "HOST = 'postgres' # shared-networkに所属しているpostgres containerを指定できる\n",
    "PORT = '5432'\n",
    "DB_NAME = 'sandbox'\n",
    "\n",
    "CONNECT_STR = '{}://{}:{}@{}:{}/{}'.format(DATABASE, USER, PASSWORD, HOST, PORT, DB_NAME)\n",
    "engine = create_engine(CONNECT_STR)\n",
    "\n",
    "conn = engine.connect()\n",
    "res = conn.execute(\"select datname, datdba, encoding, datcollate, datctype from pg_database;\")\n",
    "\n",
    "for row in res:\n",
    "    print(row)"
   ]
  },
  {
   "cell_type": "code",
   "execution_count": 2,
   "metadata": {},
   "outputs": [],
   "source": [
    "# create poptbl\n",
    "tablename = 'x003_salaries'\n",
    "q1 = \"SELECT * FROM information_schema.tables WHERE table_name = '{}';\".format(tablename)\n",
    "res = conn.execute(q1)\n",
    "\n",
    "q2 = \"\"\"\n",
    "CREATE TABLE  {} (\n",
    "    name  varchar(256) NOT NULL,\n",
    "    salary integer NOT NULL\n",
    ");\n",
    "\"\"\".format(tablename)\n",
    "\n",
    "if sum(1 for _ in res) == 0:\n",
    "    print(\"create\")\n",
    "    conn.execute(q2)\n",
    "    res = conn.execute(q1)\n",
    "    sum(1 for _ in res)"
   ]
  },
  {
   "cell_type": "code",
   "execution_count": 3,
   "metadata": {},
   "outputs": [
    {
     "name": "stdout",
     "output_type": "stream",
     "text": [
      "('相田', 300000)\n",
      "('神崎', 270000)\n",
      "('木村', 220000)\n",
      "('斉藤', 290000)\n"
     ]
    }
   ],
   "source": [
    "# insert data\n",
    "data = (\n",
    "    ('相田', 300_000),\n",
    "    ('神崎', 270_000),\n",
    "    ('木村', 220_000),\n",
    "    ('斉藤', 290_000)\n",
    ")\n",
    "\n",
    "conn.execute(\"DELETE FROM {};\".format(tablename))\n",
    "\n",
    "metadata = MetaData()\n",
    "tbl = Table(tablename, metadata,\n",
    "            Column('name', String, primary_key=False),\n",
    "            Column('salary', Integer),\n",
    "           )\n",
    "\n",
    "for i in data:\n",
    "    ins = tbl.insert().values(name=i[0], salary=i[1])\n",
    "    conn.execute(ins)\n",
    "\n",
    "res = conn.execute(\"SELECT * FROM {};\".format(tablename))\n",
    "for i in res:\n",
    "    print(i)"
   ]
  },
  {
   "cell_type": "markdown",
   "metadata": {},
   "source": [
    "期待する結果\n",
    "\n",
    "|name|new_salary|   \n",
    "|:--|:--|\n",
    "|相田|270000.0|\n",
    "|神崎|324000.0|\n",
    "|木村|220000|\n",
    "|斉藤|290000|"
   ]
  },
  {
   "cell_type": "code",
   "execution_count": 4,
   "metadata": {},
   "outputs": [
    {
     "name": "stdout",
     "output_type": "stream",
     "text": [
      "\n",
      "select\n",
      "    name,\n",
      "    case\n",
      "    when salary >= 300000                     then salary * 0.9\n",
      "    when salary >= 250000 and salary < 280000 then salary * 1.2\n",
      "    else salary\n",
      "    end as new_salary\n",
      "from x003_salaries;\n",
      "\n",
      "('相田', Decimal('270000.0'))\n",
      "('神崎', Decimal('324000.0'))\n",
      "('木村', Decimal('220000'))\n",
      "('斉藤', Decimal('290000'))\n"
     ]
    }
   ],
   "source": [
    "q = f\"\"\"\n",
    "select\n",
    "    name,\n",
    "    case\n",
    "    when salary >= 300000                     then salary * 0.9\n",
    "    when salary >= 250000 and salary < 280000 then salary * 1.2\n",
    "    else salary\n",
    "    end as new_salary\n",
    "from x003_salaries;\n",
    "\"\"\"\n",
    "\n",
    "print(q)\n",
    "\n",
    "res = conn.execute(q)\n",
    "for i in res:\n",
    "    print(i)"
   ]
  },
  {
   "cell_type": "code",
   "execution_count": 5,
   "metadata": {},
   "outputs": [
    {
     "name": "stdout",
     "output_type": "stream",
     "text": [
      "\n",
      "update x003_salaries\n",
      "    set salary = case\n",
      "    when salary >= 300000                     then salary * 0.9\n",
      "    when salary >= 250000 and salary < 280000 then salary * 1.2\n",
      "    else salary\n",
      "    end;\n",
      "\n",
      "('相田', 270000)\n",
      "('神崎', 324000)\n",
      "('木村', 220000)\n",
      "('斉藤', 290000)\n"
     ]
    }
   ],
   "source": [
    "# update\n",
    "\n",
    "q = f\"\"\"\n",
    "update {tablename}\n",
    "    set salary = case\n",
    "    when salary >= 300000                     then salary * 0.9\n",
    "    when salary >= 250000 and salary < 280000 then salary * 1.2\n",
    "    else salary\n",
    "    end;\n",
    "\"\"\"\n",
    "\n",
    "print(q)\n",
    "\n",
    "res = conn.execute(q)\n",
    "\n",
    "res = conn.execute(\"SELECT * FROM {};\".format(tablename))\n",
    "for i in res:\n",
    "    print(i)"
   ]
  }
 ],
 "metadata": {
  "kernelspec": {
   "display_name": "Python 3",
   "language": "python",
   "name": "python3"
  },
  "language_info": {
   "codemirror_mode": {
    "name": "ipython",
    "version": 3
   },
   "file_extension": ".py",
   "mimetype": "text/x-python",
   "name": "python",
   "nbconvert_exporter": "python",
   "pygments_lexer": "ipython3",
   "version": "3.8.6"
  }
 },
 "nbformat": 4,
 "nbformat_minor": 4
}
