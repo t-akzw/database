{
 "cells": [
  {
   "cell_type": "code",
   "execution_count": 1,
   "metadata": {},
   "outputs": [
    {
     "name": "stdout",
     "output_type": "stream",
     "text": [
      "('postgres', 10, 6, 'ja_JP.UTF-8', 'ja_JP.UTF-8')\n",
      "('sandbox', 10, 6, 'ja_JP.UTF-8', 'ja_JP.UTF-8')\n",
      "('template1', 10, 6, 'ja_JP.UTF-8', 'ja_JP.UTF-8')\n",
      "('template0', 10, 6, 'ja_JP.UTF-8', 'ja_JP.UTF-8')\n"
     ]
    }
   ],
   "source": [
    "import psycopg2\n",
    "from psycopg2  import extras\n",
    "from sqlalchemy import create_engine\n",
    "from sqlalchemy.orm import scoped_session, sessionmaker\n",
    "from sqlalchemy import Table, Column, Integer, String, MetaData, ForeignKey, Date\n",
    "\n",
    "DATABASE = 'postgresql'\n",
    "USER = 'root'\n",
    "PASSWORD = 'root'\n",
    "HOST = 'postgres' # shared-networkに所属しているpostgres containerを指定できる\n",
    "PORT = '5432'\n",
    "DB_NAME = 'sandbox'\n",
    "\n",
    "CONNECT_STR = '{}://{}:{}@{}:{}/{}'.format(DATABASE, USER, PASSWORD, HOST, PORT, DB_NAME)\n",
    "engine = create_engine(CONNECT_STR)\n",
    "\n",
    "conn = engine.connect()\n",
    "res = conn.execute(\"select datname, datdba, encoding, datcollate, datctype from pg_database;\")\n",
    "\n",
    "for row in res:\n",
    "    print(row)"
   ]
  },
  {
   "cell_type": "code",
   "execution_count": 2,
   "metadata": {},
   "outputs": [],
   "source": [
    "# create table\n",
    "tablename = 'x007_products'\n",
    "\n",
    "q1 = \"SELECT * FROM information_schema.tables WHERE table_name = '{}';\".format(tablename)\n",
    "res = conn.execute(q1)\n",
    "\n",
    "q2 = \"\"\"\n",
    "CREATE TABLE  {} (\n",
    "    name varchar(256) NOT NULL,\n",
    "    price integer NOT NULL\n",
    ");\n",
    "\"\"\".format(tablename)\n",
    "\n",
    "if sum(1 for _ in res) == 0:\n",
    "    print(\"create\")\n",
    "    conn.execute(q2)\n",
    "    res = conn.execute(q1)\n",
    "    sum(1 for _ in res)"
   ]
  },
  {
   "cell_type": "code",
   "execution_count": 3,
   "metadata": {},
   "outputs": [
    {
     "name": "stdout",
     "output_type": "stream",
     "text": [
      "('りんご', 100)\n",
      "('みかん', 50)\n",
      "('バナナ', 100)\n"
     ]
    }
   ],
   "source": [
    "# insert data\n",
    "data = (\n",
    "    ('りんご', 100),\n",
    "    ('みかん', 50),\n",
    "    ('バナナ', 100),\n",
    ")\n",
    "\n",
    "conn.execute(\"DELETE FROM {};\".format(tablename))\n",
    "\n",
    "metadata = MetaData()\n",
    "tbl = Table(tablename, metadata,\n",
    "            Column('name', Date),\n",
    "            Column('price', Integer),\n",
    "           )\n",
    "\n",
    "for i in data:\n",
    "    ins = tbl.insert().values(name=i[0], price=i[1])\n",
    "    conn.execute(ins)\n",
    "\n",
    "res = conn.execute(\"SELECT * FROM {};\".format(tablename))\n",
    "for i in res:\n",
    "    print(i)"
   ]
  },
  {
   "cell_type": "code",
   "execution_count": 4,
   "metadata": {},
   "outputs": [
    {
     "name": "stdout",
     "output_type": "stream",
     "text": [
      "\n",
      "select p1.name as name1, p2.name as name2\n",
      "    from x007_products p1 cross join x007_products p2;\n",
      "\n",
      "('りんご', 'りんご')\n",
      "('りんご', 'みかん')\n",
      "('りんご', 'バナナ')\n",
      "('みかん', 'りんご')\n",
      "('みかん', 'みかん')\n",
      "('みかん', 'バナナ')\n",
      "('バナナ', 'りんご')\n",
      "('バナナ', 'みかん')\n",
      "('バナナ', 'バナナ')\n"
     ]
    }
   ],
   "source": [
    "# 重複順列を得るSQL\n",
    "\n",
    "q = f\"\"\"\n",
    "select p1.name as name1, p2.name as name2\n",
    "    from {tablename} p1 cross join {tablename} p2;\n",
    "\"\"\"\n",
    "\n",
    "print(q)\n",
    "\n",
    "res = conn.execute(q)\n",
    "for i in res:\n",
    "    print(i)"
   ]
  },
  {
   "cell_type": "code",
   "execution_count": 5,
   "metadata": {},
   "outputs": [
    {
     "name": "stdout",
     "output_type": "stream",
     "text": [
      "\n",
      "select p1.name as name1, p2.name as name2\n",
      "    from x007_products p1 inner join x007_products p2\n",
      "        on p1.name <> p2.name;\n",
      "\n",
      "('りんご', 'みかん')\n",
      "('りんご', 'バナナ')\n",
      "('みかん', 'りんご')\n",
      "('みかん', 'バナナ')\n",
      "('バナナ', 'りんご')\n",
      "('バナナ', 'みかん')\n"
     ]
    }
   ],
   "source": [
    "# 順列を得るSQL\n",
    "\n",
    "q = f\"\"\"\n",
    "select p1.name as name1, p2.name as name2\n",
    "    from {tablename} p1 inner join {tablename} p2\n",
    "        on p1.name <> p2.name;\n",
    "\"\"\"\n",
    "\n",
    "print(q)\n",
    "\n",
    "res = conn.execute(q)\n",
    "for i in res:\n",
    "    print(i)"
   ]
  },
  {
   "cell_type": "code",
   "execution_count": 6,
   "metadata": {},
   "outputs": [
    {
     "name": "stdout",
     "output_type": "stream",
     "text": [
      "\n",
      "select distinct p1.name, p1.price\n",
      "    from x007_products p1 inner join x007_products p2\n",
      "        on p1.price = p2.price\n",
      "        and p1.name <> p2.name\n",
      "order by p1.price;\n",
      "\n",
      "('りんご', 100)\n",
      "('バナナ', 100)\n"
     ]
    }
   ],
   "source": [
    "# 値段が同じ商品の組み合わせを取得する\n",
    "\n",
    "q = f\"\"\"\n",
    "select distinct p1.name, p1.price\n",
    "    from {tablename} p1 inner join {tablename} p2\n",
    "        on p1.price = p2.price\n",
    "        and p1.name <> p2.name\n",
    "order by p1.price;\n",
    "\"\"\"\n",
    "\n",
    "print(q)\n",
    "\n",
    "res = conn.execute(q)\n",
    "for i in res:\n",
    "    print(i)"
   ]
  },
  {
   "cell_type": "code",
   "execution_count": 7,
   "metadata": {},
   "outputs": [
    {
     "name": "stdout",
     "output_type": "stream",
     "text": [
      "\n",
      "select p1.name, p2.name\n",
      "    from x007_products p1 inner join x007_products p2\n",
      "    on p1.name >= p2.name\n",
      "order by p1.name desc;\n",
      "\n",
      "('バナナ', 'りんご')\n",
      "('バナナ', 'みかん')\n",
      "('バナナ', 'バナナ')\n",
      "('りんご', 'りんご')\n",
      "('りんご', 'みかん')\n",
      "('みかん', 'みかん')\n"
     ]
    }
   ],
   "source": [
    "# 重複組み合わせ\n",
    "\n",
    "q = f\"\"\"\n",
    "select p1.name, p2.name\n",
    "    from {tablename} p1 inner join {tablename} p2\n",
    "    on p1.name >= p2.name\n",
    "order by p1.name desc;\n",
    "\"\"\"\n",
    "\n",
    "print(q)\n",
    "\n",
    "res = conn.execute(q)\n",
    "for i in res:\n",
    "    print(i)"
   ]
  },
  {
   "cell_type": "code",
   "execution_count": 8,
   "metadata": {},
   "outputs": [
    {
     "name": "stdout",
     "output_type": "stream",
     "text": [
      "('りんご', 50)\n",
      "('みかん', 100)\n",
      "('ぶどう', 50)\n",
      "('スイカ', 80)\n",
      "('レモン', 30)\n",
      "('バナナ', 50)\n"
     ]
    }
   ],
   "source": [
    "# insert data\n",
    "data = (\n",
    "    ('りんご', 50),\n",
    "    ('みかん', 100),\n",
    "    ('ぶどう', 50),\n",
    "    ('スイカ', 80),\n",
    "    ('レモン', 30),\n",
    "    ('バナナ', 50)\n",
    ")\n",
    "\n",
    "conn.execute(\"DELETE FROM {};\".format(tablename))\n",
    "\n",
    "metadata = MetaData()\n",
    "tbl = Table(tablename, metadata,\n",
    "            Column('name', Date),\n",
    "            Column('price', Integer),\n",
    "           )\n",
    "\n",
    "for i in data:\n",
    "    ins = tbl.insert().values(name=i[0], price=i[1])\n",
    "    conn.execute(ins)\n",
    "\n",
    "res = conn.execute(\"SELECT * FROM {};\".format(tablename))\n",
    "for i in res:\n",
    "    print(i)"
   ]
  },
  {
   "cell_type": "code",
   "execution_count": 9,
   "metadata": {},
   "outputs": [
    {
     "name": "stdout",
     "output_type": "stream",
     "text": [
      "\n",
      "select name, price,\n",
      "    rank() over (order by price desc) as rank1,\n",
      "    dense_rank() over (order by price desc) as rank2\n",
      "from x007_products;\n",
      "\n",
      "('みかん', 100, 1, 1)\n",
      "('スイカ', 80, 2, 2)\n",
      "('りんご', 50, 3, 3)\n",
      "('ぶどう', 50, 3, 3)\n",
      "('バナナ', 50, 3, 3)\n",
      "('レモン', 30, 6, 4)\n"
     ]
    }
   ],
   "source": [
    "# 値段ランキング\n",
    "\n",
    "q = f\"\"\"\n",
    "select name, price,\n",
    "    rank() over (order by price desc) as rank1,\n",
    "    dense_rank() over (order by price desc) as rank2\n",
    "from {tablename};\n",
    "\"\"\"\n",
    "\n",
    "print(q)\n",
    "\n",
    "res = conn.execute(q)\n",
    "for i in res:\n",
    "    print(i)"
   ]
  },
  {
   "cell_type": "code",
   "execution_count": 10,
   "metadata": {},
   "outputs": [
    {
     "name": "stdout",
     "output_type": "stream",
     "text": [
      "\n",
      "select p1.name, p1.price,\n",
      "    (select count(p2.price)\n",
      "        from x007_products p2\n",
      "        where p2.price > p1.price) + 1 as rank1,\n",
      "    (select count(distinct p2.price)\n",
      "        from x007_products p2\n",
      "        where p2.price > p1.price) + 1 as rank2\n",
      "from x007_products p1\n",
      "order by rank1 asc;\n",
      "\n",
      "('みかん', 100, 1, 1)\n",
      "('スイカ', 80, 2, 2)\n",
      "('りんご', 50, 3, 3)\n",
      "('ぶどう', 50, 3, 3)\n",
      "('バナナ', 50, 3, 3)\n",
      "('レモン', 30, 6, 4)\n"
     ]
    }
   ],
   "source": [
    "# 値段ランキング\n",
    "\n",
    "q = f\"\"\"\n",
    "select p1.name, p1.price,\n",
    "    (select count(p2.price)\n",
    "        from {tablename} p2\n",
    "        where p2.price > p1.price) + 1 as rank1,\n",
    "    (select count(distinct p2.price)\n",
    "        from {tablename} p2\n",
    "        where p2.price > p1.price) + 1 as rank2\n",
    "from {tablename} p1\n",
    "order by rank1 asc;\n",
    "\"\"\"\n",
    "\n",
    "print(q)\n",
    "\n",
    "res = conn.execute(q)\n",
    "for i in res:\n",
    "    print(i)"
   ]
  },
  {
   "cell_type": "code",
   "execution_count": 11,
   "metadata": {},
   "outputs": [
    {
     "name": "stdout",
     "output_type": "stream",
     "text": [
      "('りんご', 50)\n",
      "('みかん', 100)\n",
      "('みかん', 200)\n",
      "('みかん', 100)\n",
      "('バナナ', 50)\n"
     ]
    }
   ],
   "source": [
    "# insert data\n",
    "data = (\n",
    "    ('りんご', 50),\n",
    "    ('みかん', 100),\n",
    "    ('みかん', 200),\n",
    "    ('みかん', 100),\n",
    "    ('バナナ', 50)\n",
    ")\n",
    "\n",
    "conn.execute(\"DELETE FROM {};\".format(tablename))\n",
    "\n",
    "metadata = MetaData()\n",
    "tbl = Table(tablename, metadata,\n",
    "            Column('name', Date),\n",
    "            Column('price', Integer),\n",
    "           )\n",
    "\n",
    "for i in data:\n",
    "    ins = tbl.insert().values(name=i[0], price=i[1])\n",
    "    conn.execute(ins)\n",
    "\n",
    "res = conn.execute(\"SELECT * FROM {};\".format(tablename))\n",
    "for i in res:\n",
    "    print(i)"
   ]
  },
  {
   "cell_type": "code",
   "execution_count": 12,
   "metadata": {},
   "outputs": [
    {
     "name": "stdout",
     "output_type": "stream",
     "text": [
      "\n",
      "select * from\n",
      "(select row_number() over (\n",
      "    partition by name, price\n",
      "        order by name) as row_num,\n",
      "    name, price\n",
      "from x007_products) p\n",
      "where p.row_num > 1;\n",
      "\n",
      "(2, 'みかん', 100)\n"
     ]
    }
   ],
   "source": [
    "# 重複行の抽出\n",
    "\n",
    "q = f\"\"\"\n",
    "select * from\n",
    "(select row_number() over (\n",
    "    partition by name, price\n",
    "        order by name) as row_num,\n",
    "    name, price\n",
    "from {tablename}) p\n",
    "where p.row_num > 1;\n",
    "\"\"\"\n",
    "\n",
    "print(q)\n",
    "\n",
    "res = conn.execute(q)\n",
    "for i in res:\n",
    "    print(i)"
   ]
  }
 ],
 "metadata": {
  "kernelspec": {
   "display_name": "Python 3",
   "language": "python",
   "name": "python3"
  },
  "language_info": {
   "codemirror_mode": {
    "name": "ipython",
    "version": 3
   },
   "file_extension": ".py",
   "mimetype": "text/x-python",
   "name": "python",
   "nbconvert_exporter": "python",
   "pygments_lexer": "ipython3",
   "version": "3.8.6"
  }
 },
 "nbformat": 4,
 "nbformat_minor": 4
}
