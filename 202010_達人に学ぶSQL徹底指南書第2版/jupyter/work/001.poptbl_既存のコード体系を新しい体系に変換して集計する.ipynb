{
 "cells": [
  {
   "cell_type": "code",
   "execution_count": 1,
   "metadata": {},
   "outputs": [
    {
     "name": "stdout",
     "output_type": "stream",
     "text": [
      "('postgres', 10, 6, 'ja_JP.UTF-8', 'ja_JP.UTF-8')\n",
      "('sandbox', 10, 6, 'ja_JP.UTF-8', 'ja_JP.UTF-8')\n",
      "('template1', 10, 6, 'ja_JP.UTF-8', 'ja_JP.UTF-8')\n",
      "('template0', 10, 6, 'ja_JP.UTF-8', 'ja_JP.UTF-8')\n"
     ]
    }
   ],
   "source": [
    "import psycopg2\n",
    "from psycopg2  import extras\n",
    "from sqlalchemy import create_engine\n",
    "from sqlalchemy.orm import scoped_session, sessionmaker\n",
    "from sqlalchemy import Table, Column, Integer, String, MetaData, ForeignKey\n",
    "\n",
    "DATABASE = 'postgresql'\n",
    "USER = 'root'\n",
    "PASSWORD = 'root'\n",
    "HOST = 'postgres' # shared-networkに所属しているpostgres containerを指定できる\n",
    "PORT = '5432'\n",
    "DB_NAME = 'sandbox'\n",
    "\n",
    "CONNECT_STR = '{}://{}:{}@{}:{}/{}'.format(DATABASE, USER, PASSWORD, HOST, PORT, DB_NAME)\n",
    "engine = create_engine(CONNECT_STR)\n",
    "\n",
    "conn = engine.connect()\n",
    "res = conn.execute(\"select datname, datdba, encoding, datcollate, datctype from pg_database;\")\n",
    "\n",
    "for row in res:\n",
    "    print(row)"
   ]
  },
  {
   "cell_type": "code",
   "execution_count": 2,
   "metadata": {},
   "outputs": [],
   "source": [
    "# create poptbl\n",
    "tablename = 'x001_poptbl'\n",
    "q1 = \"SELECT * FROM information_schema.tables WHERE table_name = '{}';\".format(tablename)\n",
    "res = conn.execute(q1)\n",
    "\n",
    "q2 = \"\"\"\n",
    "CREATE TABLE  {} (\n",
    "    pref_name  varchar(256) NOT NULL,\n",
    "    population integer NOT NULL\n",
    ");\n",
    "\"\"\".format(tablename)\n",
    "\n",
    "if sum(1 for _ in res) == 0:\n",
    "    conn.execute(q2)\n",
    "    res = conn.execute(q1)\n",
    "    sum(1 for _ in res)"
   ]
  },
  {
   "cell_type": "code",
   "execution_count": 3,
   "metadata": {},
   "outputs": [
    {
     "name": "stdout",
     "output_type": "stream",
     "text": [
      "('徳島', 100)\n",
      "('香川', 200)\n",
      "('愛媛', 150)\n",
      "('高知', 200)\n",
      "('福岡', 300)\n",
      "('佐賀', 100)\n",
      "('長崎', 200)\n",
      "('東京', 400)\n",
      "('群馬', 50)\n"
     ]
    }
   ],
   "source": [
    "# insert data\n",
    "data = (\n",
    "    ('徳島', 100),\n",
    "    ('香川', 200),\n",
    "    ('愛媛', 150),\n",
    "    ('高知', 200),\n",
    "    ('福岡', 300),\n",
    "    ('佐賀', 100),\n",
    "    ('長崎', 200),\n",
    "    ('東京', 400),\n",
    "    ('群馬', 50)\n",
    ")\n",
    "\n",
    "conn.execute(\"DELETE FROM {};\".format(tablename))\n",
    "\n",
    "metadata = MetaData()\n",
    "tbl = Table(tablename, metadata,\n",
    "              Column('pref_name', String, primary_key=False),\n",
    "              Column('population', Integer),\n",
    "             )\n",
    "\n",
    "for i in data:\n",
    "    ins = tbl.insert().values(pref_name=i[0], population=i[1])\n",
    "    conn.execute(ins)\n",
    "\n",
    "res = conn.execute(\"SELECT * FROM {};\".format(tablename))\n",
    "for i in res:\n",
    "    print(i)"
   ]
  },
  {
   "cell_type": "markdown",
   "metadata": {},
   "source": [
    "期待する結果\n",
    "\n",
    "|地方名|人口|\n",
    "|:--|:--|\n",
    "|九州|600|\n",
    "|四国|650|\n",
    "|その他|450|"
   ]
  },
  {
   "cell_type": "code",
   "execution_count": 4,
   "metadata": {},
   "outputs": [
    {
     "name": "stdout",
     "output_type": "stream",
     "text": [
      "('四国', 100)\n",
      "('四国', 200)\n",
      "('四国', 150)\n",
      "('四国', 200)\n",
      "('九州', 300)\n",
      "('九州', 100)\n",
      "('九州', 200)\n",
      "('その他', 400)\n",
      "('その他', 50)\n"
     ]
    }
   ],
   "source": [
    "# まずcaseを利用して県名を地方名という体系に変換してみる\n",
    "\n",
    "q = \"\"\"\n",
    "select \n",
    "    case pref_name\n",
    "    when '徳島' then '四国'\n",
    "    when '香川' then '四国'\n",
    "    when '愛媛' then '四国'\n",
    "    when '高知' then '四国'\n",
    "    when '福岡' then '九州'\n",
    "    when '佐賀' then '九州'\n",
    "    when '長崎' then '九州'\n",
    "    else 'その他' end\n",
    "    as 地方名, \n",
    "    population as 人口\n",
    "    from x001_poptbl;\n",
    "\"\"\"\n",
    "\n",
    "res = conn.execute(q)\n",
    "for i in res:\n",
    "    print(i)"
   ]
  },
  {
   "cell_type": "code",
   "execution_count": 5,
   "metadata": {},
   "outputs": [
    {
     "name": "stdout",
     "output_type": "stream",
     "text": [
      "\n",
      "select \n",
      "    case pref_name\n",
      "    when '徳島' then '四国'\n",
      "    when '香川' then '四国'\n",
      "    when '愛媛' then '四国'\n",
      "    when '高知' then '四国'\n",
      "    when '福岡' then '九州'\n",
      "    when '佐賀' then '九州'\n",
      "    when '長崎' then '九州'\n",
      "    else 'その他' end\n",
      " as 地方名, sum(population) as 人口\n",
      "    from x001_poptbl\n",
      "    group by 地方名;\n",
      "\n",
      "('九州', 600)\n",
      "('四国', 650)\n",
      "('その他', 450)\n"
     ]
    }
   ],
   "source": [
    "# 見やすくするためにクエリを分割する\n",
    "\n",
    "subq = \"\"\"\n",
    "    case pref_name\n",
    "    when '徳島' then '四国'\n",
    "    when '香川' then '四国'\n",
    "    when '愛媛' then '四国'\n",
    "    when '高知' then '四国'\n",
    "    when '福岡' then '九州'\n",
    "    when '佐賀' then '九州'\n",
    "    when '長崎' then '九州'\n",
    "    else 'その他' end\n",
    "\"\"\"\n",
    "\n",
    "q = f\"\"\"\n",
    "select {subq} as 地方名, sum(population) as 人口\n",
    "    from {tablename}\n",
    "    group by 地方名;\n",
    "\"\"\"\n",
    "\n",
    "print(q)\n",
    "\n",
    "res = conn.execute(q)\n",
    "for i in res:\n",
    "    print(i)"
   ]
  }
 ],
 "metadata": {
  "kernelspec": {
   "display_name": "Python 3",
   "language": "python",
   "name": "python3"
  },
  "language_info": {
   "codemirror_mode": {
    "name": "ipython",
    "version": 3
   },
   "file_extension": ".py",
   "mimetype": "text/x-python",
   "name": "python",
   "nbconvert_exporter": "python",
   "pygments_lexer": "ipython3",
   "version": "3.8.6"
  }
 },
 "nbformat": 4,
 "nbformat_minor": 4
}
